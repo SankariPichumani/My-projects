{
 "cells": [
  {
   "cell_type": "code",
   "execution_count": 6,
   "metadata": {},
   "outputs": [],
   "source": [
    "import pandas as pd"
   ]
  },
  {
   "cell_type": "code",
   "execution_count": 38,
   "metadata": {},
   "outputs": [
    {
     "data": {
      "text/html": [
       "<div>\n",
       "<style scoped>\n",
       "    .dataframe tbody tr th:only-of-type {\n",
       "        vertical-align: middle;\n",
       "    }\n",
       "\n",
       "    .dataframe tbody tr th {\n",
       "        vertical-align: top;\n",
       "    }\n",
       "\n",
       "    .dataframe thead th {\n",
       "        text-align: right;\n",
       "    }\n",
       "</style>\n",
       "<table border=\"1\" class=\"dataframe\">\n",
       "  <thead>\n",
       "    <tr style=\"text-align: right;\">\n",
       "      <th></th>\n",
       "      <th>Order Date</th>\n",
       "      <th>Order ID</th>\n",
       "      <th>Payment Instrument Type</th>\n",
       "      <th>Website</th>\n",
       "      <th>Purchase Order Number</th>\n",
       "      <th>Ordering Customer Email</th>\n",
       "      <th>Shipment Date</th>\n",
       "      <th>Shipping Address Name</th>\n",
       "      <th>Shipping Address Street 1</th>\n",
       "      <th>Shipping Address Street 2</th>\n",
       "      <th>...</th>\n",
       "      <th>Order Status</th>\n",
       "      <th>Carrier Name &amp; Tracking Number</th>\n",
       "      <th>Subtotal</th>\n",
       "      <th>Shipping Charge</th>\n",
       "      <th>Tax Before Promotions</th>\n",
       "      <th>Total Promotions</th>\n",
       "      <th>Tax Charged</th>\n",
       "      <th>Total Charged</th>\n",
       "      <th>Buyer Name</th>\n",
       "      <th>Group Name</th>\n",
       "    </tr>\n",
       "  </thead>\n",
       "  <tbody>\n",
       "    <tr>\n",
       "      <th>0</th>\n",
       "      <td>10/21/2019</td>\n",
       "      <td>113-1025590-3262661</td>\n",
       "      <td>Discover0000</td>\n",
       "      <td>Amazon.com</td>\n",
       "      <td>NaN</td>\n",
       "      <td>myemail@gmail.com</td>\n",
       "      <td>10/21/2019</td>\n",
       "      <td>Sankari</td>\n",
       "      <td>2000 Hopes RD APT 200</td>\n",
       "      <td>NaN</td>\n",
       "      <td>...</td>\n",
       "      <td>Shipped</td>\n",
       "      <td>UPS(1Z9YF1280357972744)</td>\n",
       "      <td>$11.99</td>\n",
       "      <td>$0.00</td>\n",
       "      <td>$0.00</td>\n",
       "      <td>$0.60</td>\n",
       "      <td>$0.00</td>\n",
       "      <td>$11.39</td>\n",
       "      <td>sankari</td>\n",
       "      <td>NaN</td>\n",
       "    </tr>\n",
       "    <tr>\n",
       "      <th>1</th>\n",
       "      <td>10/21/2019</td>\n",
       "      <td>113-9212259-2796245</td>\n",
       "      <td>Discover0001</td>\n",
       "      <td>Amazon.com</td>\n",
       "      <td>NaN</td>\n",
       "      <td>myemail@gmail.com</td>\n",
       "      <td>10/22/2019</td>\n",
       "      <td>Sankari</td>\n",
       "      <td>2001 Hopes RD APT 200</td>\n",
       "      <td>NaN</td>\n",
       "      <td>...</td>\n",
       "      <td>Shipped</td>\n",
       "      <td>UPS(1Z077A2R1331450232)</td>\n",
       "      <td>$8.99</td>\n",
       "      <td>$0.00</td>\n",
       "      <td>$0.56</td>\n",
       "      <td>$0.00</td>\n",
       "      <td>$0.56</td>\n",
       "      <td>$9.55</td>\n",
       "      <td>sankari</td>\n",
       "      <td>NaN</td>\n",
       "    </tr>\n",
       "    <tr>\n",
       "      <th>2</th>\n",
       "      <td>11/5/2019</td>\n",
       "      <td>114-9835279-7856239</td>\n",
       "      <td>Discover0002</td>\n",
       "      <td>Amazon.com</td>\n",
       "      <td>NaN</td>\n",
       "      <td>myemail@gmail.com</td>\n",
       "      <td>11/6/2019</td>\n",
       "      <td>Sankari</td>\n",
       "      <td>2002 Hopes RD APT 200</td>\n",
       "      <td>NaN</td>\n",
       "      <td>...</td>\n",
       "      <td>Shipped</td>\n",
       "      <td>UPS(1Z9Y97F30328819135)</td>\n",
       "      <td>$22.99</td>\n",
       "      <td>$0.00</td>\n",
       "      <td>$0.00</td>\n",
       "      <td>$0.00</td>\n",
       "      <td>$0.00</td>\n",
       "      <td>$22.99</td>\n",
       "      <td>sankari</td>\n",
       "      <td>NaN</td>\n",
       "    </tr>\n",
       "    <tr>\n",
       "      <th>3</th>\n",
       "      <td>11/9/2019</td>\n",
       "      <td>113-1849378-3470649</td>\n",
       "      <td>Discover0003</td>\n",
       "      <td>Amazon.com</td>\n",
       "      <td>NaN</td>\n",
       "      <td>myemail@gmail.com</td>\n",
       "      <td>11/10/2019</td>\n",
       "      <td>Sankari</td>\n",
       "      <td>2003 Hopes RD APT 200</td>\n",
       "      <td>NaN</td>\n",
       "      <td>...</td>\n",
       "      <td>Shipped</td>\n",
       "      <td>UPS(1Z552Y520302494159)</td>\n",
       "      <td>$9.46</td>\n",
       "      <td>$0.00</td>\n",
       "      <td>$0.00</td>\n",
       "      <td>$0.00</td>\n",
       "      <td>$0.00</td>\n",
       "      <td>$9.46</td>\n",
       "      <td>sankari</td>\n",
       "      <td>NaN</td>\n",
       "    </tr>\n",
       "    <tr>\n",
       "      <th>4</th>\n",
       "      <td>11/17/2019</td>\n",
       "      <td>113-1530617-9455441</td>\n",
       "      <td>Discover0004</td>\n",
       "      <td>Amazon.com</td>\n",
       "      <td>NaN</td>\n",
       "      <td>myemail@gmail.com</td>\n",
       "      <td>11/18/2019</td>\n",
       "      <td>Sankari</td>\n",
       "      <td>2004 Hopes RD APT 200</td>\n",
       "      <td>NaN</td>\n",
       "      <td>...</td>\n",
       "      <td>Shipped</td>\n",
       "      <td>UPS(1Z6A31F50300009727)</td>\n",
       "      <td>$6.95</td>\n",
       "      <td>$0.00</td>\n",
       "      <td>$0.00</td>\n",
       "      <td>$0.00</td>\n",
       "      <td>$0.00</td>\n",
       "      <td>$6.95</td>\n",
       "      <td>sankari</td>\n",
       "      <td>NaN</td>\n",
       "    </tr>\n",
       "  </tbody>\n",
       "</table>\n",
       "<p>5 rows × 23 columns</p>\n",
       "</div>"
      ],
      "text/plain": [
       "   Order Date             Order ID Payment Instrument Type     Website  \\\n",
       "0  10/21/2019  113-1025590-3262661            Discover0000  Amazon.com   \n",
       "1  10/21/2019  113-9212259-2796245            Discover0001  Amazon.com   \n",
       "2   11/5/2019  114-9835279-7856239            Discover0002  Amazon.com   \n",
       "3   11/9/2019  113-1849378-3470649            Discover0003  Amazon.com   \n",
       "4  11/17/2019  113-1530617-9455441            Discover0004  Amazon.com   \n",
       "\n",
       "   Purchase Order Number Ordering Customer Email Shipment Date  \\\n",
       "0                    NaN       myemail@gmail.com    10/21/2019   \n",
       "1                    NaN       myemail@gmail.com    10/22/2019   \n",
       "2                    NaN       myemail@gmail.com     11/6/2019   \n",
       "3                    NaN       myemail@gmail.com    11/10/2019   \n",
       "4                    NaN       myemail@gmail.com    11/18/2019   \n",
       "\n",
       "  Shipping Address Name Shipping Address Street 1  Shipping Address Street 2  \\\n",
       "0               Sankari     2000 Hopes RD APT 200                        NaN   \n",
       "1               Sankari     2001 Hopes RD APT 200                        NaN   \n",
       "2               Sankari     2002 Hopes RD APT 200                        NaN   \n",
       "3               Sankari     2003 Hopes RD APT 200                        NaN   \n",
       "4               Sankari     2004 Hopes RD APT 200                        NaN   \n",
       "\n",
       "   ... Order Status Carrier Name & Tracking Number Subtotal Shipping Charge  \\\n",
       "0  ...      Shipped        UPS(1Z9YF1280357972744)  $11.99           $0.00    \n",
       "1  ...      Shipped        UPS(1Z077A2R1331450232)   $8.99           $0.00    \n",
       "2  ...      Shipped        UPS(1Z9Y97F30328819135)  $22.99           $0.00    \n",
       "3  ...      Shipped        UPS(1Z552Y520302494159)   $9.46           $0.00    \n",
       "4  ...      Shipped        UPS(1Z6A31F50300009727)   $6.95           $0.00    \n",
       "\n",
       "  Tax Before Promotions Total Promotions Tax Charged Total Charged Buyer Name  \\\n",
       "0                $0.00            $0.60       $0.00        $11.39     sankari   \n",
       "1                $0.56            $0.00       $0.56         $9.55     sankari   \n",
       "2                $0.00            $0.00       $0.00        $22.99     sankari   \n",
       "3                $0.00            $0.00       $0.00         $9.46     sankari   \n",
       "4                $0.00            $0.00       $0.00         $6.95     sankari   \n",
       "\n",
       "  Group Name  \n",
       "0        NaN  \n",
       "1        NaN  \n",
       "2        NaN  \n",
       "3        NaN  \n",
       "4        NaN  \n",
       "\n",
       "[5 rows x 23 columns]"
      ]
     },
     "execution_count": 38,
     "metadata": {},
     "output_type": "execute_result"
    }
   ],
   "source": [
    "df=pd.read_csv(\"C:/Users/sdsan/OneDrive/Desktop/python projects 2020/Amazonorderhistory.csv\")\n",
    "               \n",
    "df.head()"
   ]
  },
  {
   "cell_type": "code",
   "execution_count": 39,
   "metadata": {},
   "outputs": [
    {
     "data": {
      "text/plain": [
       "(14, 23)"
      ]
     },
     "execution_count": 39,
     "metadata": {},
     "output_type": "execute_result"
    }
   ],
   "source": [
    "df=df.fillna(0)\n",
    "df.shape"
   ]
  },
  {
   "cell_type": "code",
   "execution_count": 40,
   "metadata": {},
   "outputs": [
    {
     "data": {
      "text/html": [
       "<div>\n",
       "<style scoped>\n",
       "    .dataframe tbody tr th:only-of-type {\n",
       "        vertical-align: middle;\n",
       "    }\n",
       "\n",
       "    .dataframe tbody tr th {\n",
       "        vertical-align: top;\n",
       "    }\n",
       "\n",
       "    .dataframe thead th {\n",
       "        text-align: right;\n",
       "    }\n",
       "</style>\n",
       "<table border=\"1\" class=\"dataframe\">\n",
       "  <thead>\n",
       "    <tr style=\"text-align: right;\">\n",
       "      <th></th>\n",
       "      <th>Order Date</th>\n",
       "      <th>Order ID</th>\n",
       "      <th>Payment Instrument Type</th>\n",
       "      <th>Website</th>\n",
       "      <th>Purchase Order Number</th>\n",
       "      <th>Ordering Customer Email</th>\n",
       "      <th>Shipment Date</th>\n",
       "      <th>Shipping Address Name</th>\n",
       "      <th>Shipping Address Street 1</th>\n",
       "      <th>Shipping Address Street 2</th>\n",
       "      <th>...</th>\n",
       "      <th>Order Status</th>\n",
       "      <th>Carrier Name &amp; Tracking Number</th>\n",
       "      <th>Subtotal</th>\n",
       "      <th>Shipping Charge</th>\n",
       "      <th>Tax Before Promotions</th>\n",
       "      <th>Total Promotions</th>\n",
       "      <th>Tax Charged</th>\n",
       "      <th>Total Charged</th>\n",
       "      <th>Buyer Name</th>\n",
       "      <th>Group Name</th>\n",
       "    </tr>\n",
       "  </thead>\n",
       "  <tbody>\n",
       "    <tr>\n",
       "      <th>0</th>\n",
       "      <td>10/21/2019</td>\n",
       "      <td>113-1025590-3262661</td>\n",
       "      <td>Discover0000</td>\n",
       "      <td>Amazon.com</td>\n",
       "      <td>0.0</td>\n",
       "      <td>myemail@gmail.com</td>\n",
       "      <td>10/21/2019</td>\n",
       "      <td>Sankari</td>\n",
       "      <td>2000 Hopes RD APT 200</td>\n",
       "      <td>0.0</td>\n",
       "      <td>...</td>\n",
       "      <td>Shipped</td>\n",
       "      <td>UPS(1Z9YF1280357972744)</td>\n",
       "      <td>$11.99</td>\n",
       "      <td>$0.00</td>\n",
       "      <td>$0.00</td>\n",
       "      <td>$0.60</td>\n",
       "      <td>$0.00</td>\n",
       "      <td>$11.39</td>\n",
       "      <td>sankari</td>\n",
       "      <td>0.0</td>\n",
       "    </tr>\n",
       "    <tr>\n",
       "      <th>1</th>\n",
       "      <td>10/21/2019</td>\n",
       "      <td>113-9212259-2796245</td>\n",
       "      <td>Discover0001</td>\n",
       "      <td>Amazon.com</td>\n",
       "      <td>0.0</td>\n",
       "      <td>myemail@gmail.com</td>\n",
       "      <td>10/22/2019</td>\n",
       "      <td>Sankari</td>\n",
       "      <td>2001 Hopes RD APT 200</td>\n",
       "      <td>0.0</td>\n",
       "      <td>...</td>\n",
       "      <td>Shipped</td>\n",
       "      <td>UPS(1Z077A2R1331450232)</td>\n",
       "      <td>$8.99</td>\n",
       "      <td>$0.00</td>\n",
       "      <td>$0.56</td>\n",
       "      <td>$0.00</td>\n",
       "      <td>$0.56</td>\n",
       "      <td>$9.55</td>\n",
       "      <td>sankari</td>\n",
       "      <td>0.0</td>\n",
       "    </tr>\n",
       "    <tr>\n",
       "      <th>2</th>\n",
       "      <td>11/5/2019</td>\n",
       "      <td>114-9835279-7856239</td>\n",
       "      <td>Discover0002</td>\n",
       "      <td>Amazon.com</td>\n",
       "      <td>0.0</td>\n",
       "      <td>myemail@gmail.com</td>\n",
       "      <td>11/6/2019</td>\n",
       "      <td>Sankari</td>\n",
       "      <td>2002 Hopes RD APT 200</td>\n",
       "      <td>0.0</td>\n",
       "      <td>...</td>\n",
       "      <td>Shipped</td>\n",
       "      <td>UPS(1Z9Y97F30328819135)</td>\n",
       "      <td>$22.99</td>\n",
       "      <td>$0.00</td>\n",
       "      <td>$0.00</td>\n",
       "      <td>$0.00</td>\n",
       "      <td>$0.00</td>\n",
       "      <td>$22.99</td>\n",
       "      <td>sankari</td>\n",
       "      <td>0.0</td>\n",
       "    </tr>\n",
       "    <tr>\n",
       "      <th>3</th>\n",
       "      <td>11/9/2019</td>\n",
       "      <td>113-1849378-3470649</td>\n",
       "      <td>Discover0003</td>\n",
       "      <td>Amazon.com</td>\n",
       "      <td>0.0</td>\n",
       "      <td>myemail@gmail.com</td>\n",
       "      <td>11/10/2019</td>\n",
       "      <td>Sankari</td>\n",
       "      <td>2003 Hopes RD APT 200</td>\n",
       "      <td>0.0</td>\n",
       "      <td>...</td>\n",
       "      <td>Shipped</td>\n",
       "      <td>UPS(1Z552Y520302494159)</td>\n",
       "      <td>$9.46</td>\n",
       "      <td>$0.00</td>\n",
       "      <td>$0.00</td>\n",
       "      <td>$0.00</td>\n",
       "      <td>$0.00</td>\n",
       "      <td>$9.46</td>\n",
       "      <td>sankari</td>\n",
       "      <td>0.0</td>\n",
       "    </tr>\n",
       "    <tr>\n",
       "      <th>4</th>\n",
       "      <td>11/17/2019</td>\n",
       "      <td>113-1530617-9455441</td>\n",
       "      <td>Discover0004</td>\n",
       "      <td>Amazon.com</td>\n",
       "      <td>0.0</td>\n",
       "      <td>myemail@gmail.com</td>\n",
       "      <td>11/18/2019</td>\n",
       "      <td>Sankari</td>\n",
       "      <td>2004 Hopes RD APT 200</td>\n",
       "      <td>0.0</td>\n",
       "      <td>...</td>\n",
       "      <td>Shipped</td>\n",
       "      <td>UPS(1Z6A31F50300009727)</td>\n",
       "      <td>$6.95</td>\n",
       "      <td>$0.00</td>\n",
       "      <td>$0.00</td>\n",
       "      <td>$0.00</td>\n",
       "      <td>$0.00</td>\n",
       "      <td>$6.95</td>\n",
       "      <td>sankari</td>\n",
       "      <td>0.0</td>\n",
       "    </tr>\n",
       "  </tbody>\n",
       "</table>\n",
       "<p>5 rows × 23 columns</p>\n",
       "</div>"
      ],
      "text/plain": [
       "   Order Date             Order ID Payment Instrument Type     Website  \\\n",
       "0  10/21/2019  113-1025590-3262661            Discover0000  Amazon.com   \n",
       "1  10/21/2019  113-9212259-2796245            Discover0001  Amazon.com   \n",
       "2   11/5/2019  114-9835279-7856239            Discover0002  Amazon.com   \n",
       "3   11/9/2019  113-1849378-3470649            Discover0003  Amazon.com   \n",
       "4  11/17/2019  113-1530617-9455441            Discover0004  Amazon.com   \n",
       "\n",
       "   Purchase Order Number Ordering Customer Email Shipment Date  \\\n",
       "0                    0.0       myemail@gmail.com    10/21/2019   \n",
       "1                    0.0       myemail@gmail.com    10/22/2019   \n",
       "2                    0.0       myemail@gmail.com     11/6/2019   \n",
       "3                    0.0       myemail@gmail.com    11/10/2019   \n",
       "4                    0.0       myemail@gmail.com    11/18/2019   \n",
       "\n",
       "  Shipping Address Name Shipping Address Street 1  Shipping Address Street 2  \\\n",
       "0               Sankari     2000 Hopes RD APT 200                        0.0   \n",
       "1               Sankari     2001 Hopes RD APT 200                        0.0   \n",
       "2               Sankari     2002 Hopes RD APT 200                        0.0   \n",
       "3               Sankari     2003 Hopes RD APT 200                        0.0   \n",
       "4               Sankari     2004 Hopes RD APT 200                        0.0   \n",
       "\n",
       "   ... Order Status Carrier Name & Tracking Number Subtotal Shipping Charge  \\\n",
       "0  ...      Shipped        UPS(1Z9YF1280357972744)  $11.99           $0.00    \n",
       "1  ...      Shipped        UPS(1Z077A2R1331450232)   $8.99           $0.00    \n",
       "2  ...      Shipped        UPS(1Z9Y97F30328819135)  $22.99           $0.00    \n",
       "3  ...      Shipped        UPS(1Z552Y520302494159)   $9.46           $0.00    \n",
       "4  ...      Shipped        UPS(1Z6A31F50300009727)   $6.95           $0.00    \n",
       "\n",
       "  Tax Before Promotions Total Promotions Tax Charged Total Charged Buyer Name  \\\n",
       "0                $0.00            $0.60       $0.00        $11.39     sankari   \n",
       "1                $0.56            $0.00       $0.56         $9.55     sankari   \n",
       "2                $0.00            $0.00       $0.00        $22.99     sankari   \n",
       "3                $0.00            $0.00       $0.00         $9.46     sankari   \n",
       "4                $0.00            $0.00       $0.00         $6.95     sankari   \n",
       "\n",
       "  Group Name  \n",
       "0        0.0  \n",
       "1        0.0  \n",
       "2        0.0  \n",
       "3        0.0  \n",
       "4        0.0  \n",
       "\n",
       "[5 rows x 23 columns]"
      ]
     },
     "execution_count": 40,
     "metadata": {},
     "output_type": "execute_result"
    }
   ],
   "source": [
    "df.head()"
   ]
  },
  {
   "cell_type": "code",
   "execution_count": 41,
   "metadata": {},
   "outputs": [],
   "source": [
    "df[\"Total Charged\"]=df[\"Total Charged\"].str.replace('$','').astype(float)"
   ]
  },
  {
   "cell_type": "code",
   "execution_count": 42,
   "metadata": {},
   "outputs": [
    {
     "data": {
      "text/plain": [
       "190.17"
      ]
     },
     "execution_count": 42,
     "metadata": {},
     "output_type": "execute_result"
    }
   ],
   "source": [
    "#Total Amount spent on Amazon\n",
    "df[\"Total Charged\"].sum()"
   ]
  },
  {
   "cell_type": "code",
   "execution_count": 43,
   "metadata": {},
   "outputs": [
    {
     "data": {
      "text/plain": [
       "13.583571428571428"
      ]
     },
     "execution_count": 43,
     "metadata": {},
     "output_type": "execute_result"
    }
   ],
   "source": [
    "#Average Spending on Amazon\n",
    "df[\"Total Charged\"].mean()"
   ]
  },
  {
   "cell_type": "code",
   "execution_count": 44,
   "metadata": {},
   "outputs": [
    {
     "data": {
      "text/plain": [
       "10.54"
      ]
     },
     "execution_count": 44,
     "metadata": {},
     "output_type": "execute_result"
    }
   ],
   "source": [
    "df[\"Total Charged\"].median()"
   ]
  },
  {
   "cell_type": "code",
   "execution_count": 45,
   "metadata": {},
   "outputs": [
    {
     "data": {
      "text/plain": [
       "25.34"
      ]
     },
     "execution_count": 45,
     "metadata": {},
     "output_type": "execute_result"
    }
   ],
   "source": [
    "df[\"Total Charged\"].max()"
   ]
  },
  {
   "cell_type": "code",
   "execution_count": 46,
   "metadata": {},
   "outputs": [
    {
     "data": {
      "text/plain": [
       "6.36"
      ]
     },
     "execution_count": 46,
     "metadata": {},
     "output_type": "execute_result"
    }
   ],
   "source": [
    "df[\"Total Charged\"].min()"
   ]
  },
  {
   "cell_type": "code",
   "execution_count": 47,
   "metadata": {},
   "outputs": [],
   "source": [
    "df[\"Tax Charged\"]=df[\"Tax Charged\"].str.replace('$','').astype(float)"
   ]
  },
  {
   "cell_type": "code",
   "execution_count": 48,
   "metadata": {},
   "outputs": [
    {
     "data": {
      "text/plain": [
       "5.98"
      ]
     },
     "execution_count": 48,
     "metadata": {},
     "output_type": "execute_result"
    }
   ],
   "source": [
    "df[\"Tax Charged\"].sum()"
   ]
  },
  {
   "cell_type": "code",
   "execution_count": 49,
   "metadata": {},
   "outputs": [
    {
     "data": {
      "text/plain": [
       "0.03144554871956671"
      ]
     },
     "execution_count": 49,
     "metadata": {},
     "output_type": "execute_result"
    }
   ],
   "source": [
    "##Overall sale tax paid\n",
    "df[\"Tax Charged\"].sum() / df[\"Total Charged\"].sum()"
   ]
  },
  {
   "cell_type": "code",
   "execution_count": 50,
   "metadata": {},
   "outputs": [
    {
     "data": {
      "text/html": [
       "<div>\n",
       "<style scoped>\n",
       "    .dataframe tbody tr th:only-of-type {\n",
       "        vertical-align: middle;\n",
       "    }\n",
       "\n",
       "    .dataframe tbody tr th {\n",
       "        vertical-align: top;\n",
       "    }\n",
       "\n",
       "    .dataframe thead th {\n",
       "        text-align: right;\n",
       "    }\n",
       "</style>\n",
       "<table border=\"1\" class=\"dataframe\">\n",
       "  <thead>\n",
       "    <tr style=\"text-align: right;\">\n",
       "      <th></th>\n",
       "      <th>Order Date</th>\n",
       "      <th>Order ID</th>\n",
       "      <th>Payment Instrument Type</th>\n",
       "      <th>Website</th>\n",
       "      <th>Purchase Order Number</th>\n",
       "      <th>Ordering Customer Email</th>\n",
       "      <th>Shipment Date</th>\n",
       "      <th>Shipping Address Name</th>\n",
       "      <th>Shipping Address Street 1</th>\n",
       "      <th>Shipping Address Street 2</th>\n",
       "      <th>...</th>\n",
       "      <th>Order Status</th>\n",
       "      <th>Carrier Name &amp; Tracking Number</th>\n",
       "      <th>Subtotal</th>\n",
       "      <th>Shipping Charge</th>\n",
       "      <th>Tax Before Promotions</th>\n",
       "      <th>Total Promotions</th>\n",
       "      <th>Tax Charged</th>\n",
       "      <th>Total Charged</th>\n",
       "      <th>Buyer Name</th>\n",
       "      <th>Group Name</th>\n",
       "    </tr>\n",
       "  </thead>\n",
       "  <tbody>\n",
       "    <tr>\n",
       "      <th>0</th>\n",
       "      <td>2019-10-21</td>\n",
       "      <td>113-1025590-3262661</td>\n",
       "      <td>Discover0000</td>\n",
       "      <td>Amazon.com</td>\n",
       "      <td>0.0</td>\n",
       "      <td>myemail@gmail.com</td>\n",
       "      <td>10/21/2019</td>\n",
       "      <td>Sankari</td>\n",
       "      <td>2000 Hopes RD APT 200</td>\n",
       "      <td>0.0</td>\n",
       "      <td>...</td>\n",
       "      <td>Shipped</td>\n",
       "      <td>UPS(1Z9YF1280357972744)</td>\n",
       "      <td>$11.99</td>\n",
       "      <td>$0.00</td>\n",
       "      <td>$0.00</td>\n",
       "      <td>$0.60</td>\n",
       "      <td>0.00</td>\n",
       "      <td>11.39</td>\n",
       "      <td>sankari</td>\n",
       "      <td>0.0</td>\n",
       "    </tr>\n",
       "    <tr>\n",
       "      <th>1</th>\n",
       "      <td>2019-10-21</td>\n",
       "      <td>113-9212259-2796245</td>\n",
       "      <td>Discover0001</td>\n",
       "      <td>Amazon.com</td>\n",
       "      <td>0.0</td>\n",
       "      <td>myemail@gmail.com</td>\n",
       "      <td>10/22/2019</td>\n",
       "      <td>Sankari</td>\n",
       "      <td>2001 Hopes RD APT 200</td>\n",
       "      <td>0.0</td>\n",
       "      <td>...</td>\n",
       "      <td>Shipped</td>\n",
       "      <td>UPS(1Z077A2R1331450232)</td>\n",
       "      <td>$8.99</td>\n",
       "      <td>$0.00</td>\n",
       "      <td>$0.56</td>\n",
       "      <td>$0.00</td>\n",
       "      <td>0.56</td>\n",
       "      <td>9.55</td>\n",
       "      <td>sankari</td>\n",
       "      <td>0.0</td>\n",
       "    </tr>\n",
       "  </tbody>\n",
       "</table>\n",
       "<p>2 rows × 23 columns</p>\n",
       "</div>"
      ],
      "text/plain": [
       "  Order Date             Order ID Payment Instrument Type     Website  \\\n",
       "0 2019-10-21  113-1025590-3262661            Discover0000  Amazon.com   \n",
       "1 2019-10-21  113-9212259-2796245            Discover0001  Amazon.com   \n",
       "\n",
       "   Purchase Order Number Ordering Customer Email Shipment Date  \\\n",
       "0                    0.0       myemail@gmail.com    10/21/2019   \n",
       "1                    0.0       myemail@gmail.com    10/22/2019   \n",
       "\n",
       "  Shipping Address Name Shipping Address Street 1  Shipping Address Street 2  \\\n",
       "0               Sankari     2000 Hopes RD APT 200                        0.0   \n",
       "1               Sankari     2001 Hopes RD APT 200                        0.0   \n",
       "\n",
       "   ... Order Status Carrier Name & Tracking Number Subtotal Shipping Charge  \\\n",
       "0  ...      Shipped        UPS(1Z9YF1280357972744)  $11.99           $0.00    \n",
       "1  ...      Shipped        UPS(1Z077A2R1331450232)   $8.99           $0.00    \n",
       "\n",
       "  Tax Before Promotions Total Promotions Tax Charged Total Charged Buyer Name  \\\n",
       "0                $0.00            $0.60         0.00         11.39    sankari   \n",
       "1                $0.56            $0.00         0.56          9.55    sankari   \n",
       "\n",
       "   Group Name  \n",
       "0         0.0  \n",
       "1         0.0  \n",
       "\n",
       "[2 rows x 23 columns]"
      ]
     },
     "execution_count": 50,
     "metadata": {},
     "output_type": "execute_result"
    }
   ],
   "source": [
    "df[\"Order Date\"] = pd.to_datetime(df[\"Order Date\"])\n",
    "df.head(2)"
   ]
  },
  {
   "cell_type": "code",
   "execution_count": 51,
   "metadata": {},
   "outputs": [],
   "source": [
    "import matplotlib.pyplot as plt\n",
    "%matplotlib inline"
   ]
  },
  {
   "cell_type": "code",
   "execution_count": 52,
   "metadata": {},
   "outputs": [
    {
     "data": {
      "text/plain": [
       "<matplotlib.axes._subplots.AxesSubplot at 0x19925127130>"
      ]
     },
     "execution_count": 52,
     "metadata": {},
     "output_type": "execute_result"
    },
    {
     "data": {
      "image/png": "[encoded data removed]",
      "text/plain": [
       "<Figure size 1440x720 with 1 Axes>"
      ]
     },
     "metadata": {
      "needs_background": "light"
     },
     "output_type": "display_data"
    }
   ],
   "source": [
    "df.plot.bar(x='Order Date', y='Total Charged', rot=90,figsize=(20,10))"
   ]
  },
  {
   "cell_type": "code",
   "execution_count": 53,
   "metadata": {},
   "outputs": [
    {
     "data": {
      "text/plain": [
       "Order Date\n",
       "2019-10-21    20.94\n",
       "2019-11-05    22.99\n",
       "2019-11-09     9.46\n",
       "2019-11-17     6.95\n",
       "2019-11-20     9.99\n",
       "Name: Total Charged, dtype: float64"
      ]
     },
     "execution_count": 53,
     "metadata": {},
     "output_type": "execute_result"
    }
   ],
   "source": [
    "daily_orders = df.groupby(\"Order Date\").sum()[\"Total Charged\"]\n",
    "daily_orders.head()"
   ]
  },
  {
   "cell_type": "code",
   "execution_count": 54,
   "metadata": {},
   "outputs": [
    {
     "data": {
      "text/plain": [
       "<matplotlib.axes._subplots.AxesSubplot at 0x199258726d0>"
      ]
     },
     "execution_count": 54,
     "metadata": {},
     "output_type": "execute_result"
    },
    {
     "data": {
      "image/png": "[encoded data removed]",
      "text/plain": [
       "<Figure size 1440x720 with 1 Axes>"
      ]
     },
     "metadata": {
      "needs_background": "light"
     },
     "output_type": "display_data"
    }
   ],
   "source": [
    "daily_orders.plot.bar(figsize=(20,10))"
   ]
  },
  {
   "cell_type": "code",
   "execution_count": null,
   "metadata": {},
   "outputs": [],
   "source": []
  }
 ],
 "metadata": {
  "kernelspec": {
   "display_name": "Python 3",
   "language": "python",
   "name": "python3"
  },
  "language_info": {
   "codemirror_mode": {
    "name": "ipython",
    "version": 3
   },
   "file_extension": ".py",
   "mimetype": "text/x-python",
   "name": "python",
   "nbconvert_exporter": "python",
   "pygments_lexer": "ipython3",
   "version": "3.8.3"
  }
 },
 "nbformat": 4,
 "nbformat_minor": 4
}
